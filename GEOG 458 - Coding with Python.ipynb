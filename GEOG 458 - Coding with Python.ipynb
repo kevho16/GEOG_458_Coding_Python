{
 "cells": [
  {
   "cell_type": "markdown",
   "metadata": {},
   "source": [
    "Kevin Ho  \n",
    "GEOG 458"
   ]
  },
  {
   "cell_type": "markdown",
   "metadata": {},
   "source": [
    "# Part 1\n",
    "### Task 1\n",
    "\n",
    "In [this Jupyter notebook](https://nbviewer.jupyter.org/github/jiffyclub/ipythonblocks/blob/master/demos/starry_night_to_text.ipynb), a .jpg image of Starry Night by Vincent van Gogh was converted into a text file. This is interesting to me because I haven't seen an image rendered in a text file before and although not perfefct, it is still very detailed to the point that the artwork is recognizable."
   ]
  },
  {
   "cell_type": "markdown",
   "metadata": {},
   "source": [
    "### Task 2\n",
    "\n",
    "A. Some of the most [popular](https://pythontips.com/2018/06/03/top-14-most-famous-python-libraries-frameworks/)/ widely-used python packages include **pandas**, **requests**, **pillow**, **numpy**, and **matplotlib**, among others. [Pandas](https://pandas.pydata.org/) is tailored for data analysis and modeling, [numpy](http://www.numpy.org/) is for scientific computing, while [matplotlib](https://matplotlib.org/) allows for different plots, charts, and graphs to be generated.  \n",
    "\n",
    "B. The Python equivalent of ggplot for R is [matplotlib](https://matplotlib.org/).  \n",
    "\n",
    "C. A Python library for data analysis that uses something similar to dataframes is [pandas](https://pandas.pydata.org/)."
   ]
  },
  {
   "cell_type": "markdown",
   "metadata": {},
   "source": [
    "### Task 3\n",
    "\n",
    "Differences between Python and R syntax\n",
    "1. <- or = can be used to assign values to variables in R, but in Python it is just =.\n",
    "2. Writing functions in R takes the following syntax: function name <- function(){  }. In Python, functions have this syntax: def function_name():\n",
    "3. When calling packages/libraries in R, first they need to be installed (only once) with install.packages(\" \") then loaded into R with the library function library(). Modules in Python are accessed through the import() statement. \n",
    "\n"
   ]
  },
  {
   "cell_type": "markdown",
   "metadata": {},
   "source": [
    "# Part 2  \n",
    "### Task 4"
   ]
  },
  {
   "cell_type": "code",
   "execution_count": 16,
   "metadata": {},
   "outputs": [
    {
     "name": "stdout",
     "output_type": "stream",
     "text": [
      "Seattle has been below freezing\n"
     ]
    }
   ],
   "source": [
    "string1 = \"Seattle\"\n",
    "string2 = \"has been below\"\n",
    "string3 = \"freezing\"\n",
    "print string1 + \" \" + string2 + \" \" + string3"
   ]
  },
  {
   "cell_type": "markdown",
   "metadata": {},
   "source": [
    "### Task 5"
   ]
  },
  {
   "cell_type": "code",
   "execution_count": 17,
   "metadata": {},
   "outputs": [
    {
     "name": "stdout",
     "output_type": "stream",
     "text": [
      "SEATTLE HAS BEEN BELOW 32\n"
     ]
    }
   ],
   "source": [
    "num1 = 32\n",
    "print string1.upper() + \" \" + string2.upper() + \" \" + str(num1)"
   ]
  },
  {
   "cell_type": "markdown",
   "metadata": {},
   "source": [
    "### Task 6"
   ]
  },
  {
   "cell_type": "code",
   "execution_count": 18,
   "metadata": {},
   "outputs": [
    {
     "name": "stdout",
     "output_type": "stream",
     "text": [
      "Seattle has been below 32\n"
     ]
    }
   ],
   "source": [
    "this_list = [string1, string2, str(num1)]\n",
    "space = \" \"\n",
    "new_string = space.join(this_list)\n",
    "print new_string"
   ]
  },
  {
   "cell_type": "code",
   "execution_count": 19,
   "metadata": {},
   "outputs": [
    {
     "data": {
      "text/plain": [
       "5"
      ]
     },
     "execution_count": 19,
     "metadata": {},
     "output_type": "execute_result"
    }
   ],
   "source": [
    "new_string.count(\"e\")"
   ]
  },
  {
   "cell_type": "code",
   "execution_count": 20,
   "metadata": {},
   "outputs": [
    {
     "data": {
      "text/plain": [
       "19"
      ]
     },
     "execution_count": 20,
     "metadata": {},
     "output_type": "execute_result"
    }
   ],
   "source": [
    "new_string.find(\"low\")"
   ]
  },
  {
   "cell_type": "markdown",
   "metadata": {},
   "source": [
    "### Task 7"
   ]
  },
  {
   "cell_type": "code",
   "execution_count": 21,
   "metadata": {},
   "outputs": [
    {
     "name": "stdout",
     "output_type": "stream",
     "text": [
      "25\n",
      "Seattle has \n"
     ]
    }
   ],
   "source": [
    "print len(new_string)\n",
    "print new_string[0:12]"
   ]
  },
  {
   "cell_type": "markdown",
   "metadata": {},
   "source": [
    "### Task 8"
   ]
  },
  {
   "cell_type": "code",
   "execution_count": 22,
   "metadata": {},
   "outputs": [
    {
     "data": {
      "text/plain": [
       "'Seattle has been below '"
      ]
     },
     "execution_count": 22,
     "metadata": {},
     "output_type": "execute_result"
    }
   ],
   "source": [
    "new_string.strip(\"32\")"
   ]
  },
  {
   "cell_type": "code",
   "execution_count": 23,
   "metadata": {},
   "outputs": [
    {
     "data": {
      "text/plain": [
       "'Wisconsin has been below 32'"
      ]
     },
     "execution_count": 23,
     "metadata": {},
     "output_type": "execute_result"
    }
   ],
   "source": [
    "new_string.replace(\"Seattle\", \"Wisconsin\")"
   ]
  },
  {
   "cell_type": "markdown",
   "metadata": {},
   "source": [
    "### Task 9"
   ]
  },
  {
   "cell_type": "code",
   "execution_count": 24,
   "metadata": {},
   "outputs": [
    {
     "name": "stdout",
     "output_type": "stream",
     "text": [
      "['Seattle', 'has', 'been', 'below', '32']\n",
      "['Seattle', 'has', 'not', 'been', 'below', '32']\n"
     ]
    }
   ],
   "source": [
    "new_list = new_string.split(\" \")\n",
    "print new_list\n",
    "new_list.insert(2, \"not\")\n",
    "print new_list"
   ]
  },
  {
   "cell_type": "markdown",
   "metadata": {},
   "source": [
    "# Part 3\n",
    "### Task 10"
   ]
  },
  {
   "cell_type": "code",
   "execution_count": 25,
   "metadata": {},
   "outputs": [
    {
     "name": "stdout",
     "output_type": "stream",
     "text": [
      "95\n",
      "4th Quartile\n"
     ]
    }
   ],
   "source": [
    "import random\n",
    "x = random.randint(1,100)\n",
    "print x\n",
    "if 0 < x <= 25:\n",
    "    print \"1st Quartile\"\n",
    "elif 25 < x <= 50:\n",
    "    print \"2nd Quartile\"\n",
    "elif 50 < x <= 75:\n",
    "    print \"3rd Quartile\"\n",
    "elif 75 < x <= 100:\n",
    "    print \"4th Quartile\"\n",
    "        "
   ]
  },
  {
   "cell_type": "markdown",
   "metadata": {},
   "source": [
    "# Part 4\n",
    "### Task 11"
   ]
  },
  {
   "cell_type": "code",
   "execution_count": 26,
   "metadata": {},
   "outputs": [
    {
     "name": "stdout",
     "output_type": "stream",
     "text": [
      "Warning, residents of ROCHESTER, temperatures will reach sub-zero temperatures today, please stay indoors if possible\n",
      "Warning, residents of BOULDER, temperatures will reach sub-zero temperatures today, please stay indoors if possible\n",
      "Warning, residents of ANCHORAGE, temperatures will reach sub-zero temperatures today, please stay indoors if possible\n",
      "Warning, residents of GRAND RAPIDS, temperatures will reach sub-zero temperatures today, please stay indoors if possible\n",
      "Warning, residents of CLEVELAND, temperatures will reach sub-zero temperatures today, please stay indoors if possible\n",
      "Warning, residents of MINNEAPOLIS, temperatures will reach sub-zero temperatures today, please stay indoors if possible\n"
     ]
    }
   ],
   "source": [
    "snow_cities = [\"Rochester\", \"Boulder\", \"Anchorage\", \"Grand Rapids\", \"Cleveland\", \"Minneapolis\"]\n",
    "for City in snow_cities:\n",
    "    print \"Warning, residents of \" + City.upper() + \", temperatures will reach sub-zero temperatures today, please stay indoors if possible\""
   ]
  },
  {
   "cell_type": "markdown",
   "metadata": {},
   "source": [
    "### Task 12"
   ]
  },
  {
   "cell_type": "code",
   "execution_count": 27,
   "metadata": {},
   "outputs": [
    {
     "name": "stdout",
     "output_type": "stream",
     "text": [
      "['U://Users/Zhang/Geog_458/Washington.shp', 'U://Users/Zhang/Geog_458/California.shp', 'U://Users/Zhang/Geog_458/Nevada.shp', 'U://Users/Zhang/Geog_458/Idaho.shp', 'U://Users/Zhang/Geog_458/Montana.shp', 'U://Users/Zhang/Geog_458/Utah.shp', 'U://Users/Zhang/Geog_458/Colorado.shp', 'U://Users/Zhang/Geog_458/New Mexico.shp']\n"
     ]
    }
   ],
   "source": [
    "results_list = []\n",
    "states = [\"Washington\", \"California\", \"Nevada\", \"Idaho\", \"Montana\", \"Utah\", \"Colorado\", \"New Mexico\"]\n",
    "for place in states:\n",
    "    results_list.append(\"U://Users/Zhang/Geog_458/\" + place + \".shp\")\n",
    "print results_list\n",
    "    \n",
    "    \n",
    "    "
   ]
  },
  {
   "cell_type": "markdown",
   "metadata": {},
   "source": [
    "### Task 13"
   ]
  },
  {
   "cell_type": "code",
   "execution_count": 28,
   "metadata": {},
   "outputs": [
    {
     "name": "stdout",
     "output_type": "stream",
     "text": [
      "T-minus 10\n",
      "T-minus 9\n",
      "T-minus 8\n",
      "T-minus 7\n",
      "T-minus 6\n",
      "T-minus 5\n",
      "T-minus 4\n",
      "T-minus 3\n",
      "T-minus 2\n",
      "T-minus 1\n",
      "T-minus 0\n"
     ]
    }
   ],
   "source": [
    "i = 10\n",
    "while i >= 0:\n",
    "    print \"T-minus \" + str(i)\n",
    "    i -= 1"
   ]
  },
  {
   "cell_type": "markdown",
   "metadata": {},
   "source": [
    "# Part 5\n",
    "### Task 14"
   ]
  },
  {
   "cell_type": "code",
   "execution_count": 29,
   "metadata": {},
   "outputs": [],
   "source": [
    "def countdown(hundred):\n",
    "    i = hundred\n",
    "    while i >= 0:\n",
    "        print \"T-minus \" + str(i)\n",
    "        i -= 1"
   ]
  },
  {
   "cell_type": "markdown",
   "metadata": {},
   "source": [
    "### Task 15"
   ]
  },
  {
   "cell_type": "code",
   "execution_count": 30,
   "metadata": {},
   "outputs": [],
   "source": [
    "def quartile_calc():\n",
    "    x = user_input\n",
    "    print x\n",
    "    if 0 < x <= 25:\n",
    "        print \"1st Quartile\"\n",
    "    elif 25 < x <= 50:\n",
    "        print \"2nd Quartile\"\n",
    "    elif 50 < x <= 75:\n",
    "        print \"3rd Quartile\"\n",
    "    elif 75 < x <= 100:\n",
    "        print \"4th Quartile\"\n",
    "    elif x > 100:\n",
    "        print \"Error\"\n",
    "    elif x < 0:\n",
    "        print \"Error\""
   ]
  }
 ],
 "metadata": {
  "kernelspec": {
   "display_name": "Python 2",
   "language": "python",
   "name": "python2"
  },
  "language_info": {
   "codemirror_mode": {
    "name": "ipython",
    "version": 2
   },
   "file_extension": ".py",
   "mimetype": "text/x-python",
   "name": "python",
   "nbconvert_exporter": "python",
   "pygments_lexer": "ipython2",
   "version": "2.7.15"
  }
 },
 "nbformat": 4,
 "nbformat_minor": 2
}
